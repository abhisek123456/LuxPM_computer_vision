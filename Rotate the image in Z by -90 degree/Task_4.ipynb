{
 "cells": [
  {
   "cell_type": "markdown",
   "id": "5232c6ff",
   "metadata": {},
   "source": [
    "##### Install Tensorflow \n",
    "\n",
    "##### Install Skimage for reading of images "
   ]
  },
  {
   "cell_type": "code",
   "execution_count": 1,
   "id": "ddfff192",
   "metadata": {},
   "outputs": [],
   "source": [
    "from tensorflow import keras\n",
    "from keras.preprocessing.image import ImageDataGenerator\n",
    "from skimage import io"
   ]
  },
  {
   "cell_type": "markdown",
   "id": "0e212cdb",
   "metadata": {},
   "source": [
    "### Rotate the image in Z by -90 degree\n",
    "\n",
    "We will create a object \"datagen\" and under the ImageDataGenerateor we will make the rotation_range to -90 degrees"
   ]
  },
  {
   "cell_type": "code",
   "execution_count": 2,
   "id": "931339e7",
   "metadata": {},
   "outputs": [],
   "source": [
    "datagen = ImageDataGenerator(\n",
    "        rotation_range= -90 ,     # rotation range is -90\n",
    "        width_shift_range=0,    \n",
    "        height_shift_range=0,   \n",
    "        fill_mode='nearest')"
   ]
  },
  {
   "cell_type": "markdown",
   "id": "ce205e36",
   "metadata": {},
   "source": [
    "##### Reading the image and checking the shape\n",
    "\n",
    " The Image is 251 by 201 size and 3 represent the RGB color channels"
   ]
  },
  {
   "cell_type": "code",
   "execution_count": 3,
   "id": "f7f643da",
   "metadata": {},
   "outputs": [
    {
     "data": {
      "text/plain": [
       "(251, 201, 3)"
      ]
     },
     "execution_count": 3,
     "metadata": {},
     "output_type": "execute_result"
    }
   ],
   "source": [
    "x = io.imread('images.jpg') \n",
    "x.shape"
   ]
  },
  {
   "cell_type": "markdown",
   "id": "f0dfc9db",
   "metadata": {},
   "source": [
    "##### Resize the image \n",
    "\n",
    "In most convolution layers the input size will be the number of images. In this case it will be one."
   ]
  },
  {
   "cell_type": "code",
   "execution_count": 4,
   "id": "7d12ba6d",
   "metadata": {},
   "outputs": [
    {
     "data": {
      "text/plain": [
       "(1, 251, 201, 3)"
      ]
     },
     "execution_count": 4,
     "metadata": {},
     "output_type": "execute_result"
    }
   ],
   "source": [
    "x = x.reshape((1, ) + x.shape) \n",
    "x.shape"
   ]
  },
  {
   "cell_type": "markdown",
   "id": "6ed02a5a",
   "metadata": {},
   "source": [
    "From the object datagen we will now create a loop of one image and save it in a folder with prefix and save format"
   ]
  },
  {
   "cell_type": "code",
   "execution_count": 5,
   "id": "25adde12",
   "metadata": {},
   "outputs": [],
   "source": [
    "i = 0\n",
    "for batch in datagen.flow(x, batch_size=16,  \n",
    "                          save_to_dir='augmented', \n",
    "                          save_prefix='task4image', \n",
    "                          save_format='jpg'):\n",
    "    i += 1\n",
    "    if i > 0:\n",
    "        break  # to break the loop"
   ]
  }
 ],
 "metadata": {
  "kernelspec": {
   "display_name": "Python 3",
   "language": "python",
   "name": "python3"
  },
  "language_info": {
   "codemirror_mode": {
    "name": "ipython",
    "version": 3
   },
   "file_extension": ".py",
   "mimetype": "text/x-python",
   "name": "python",
   "nbconvert_exporter": "python",
   "pygments_lexer": "ipython3",
   "version": "3.8.8"
  }
 },
 "nbformat": 4,
 "nbformat_minor": 5
}
